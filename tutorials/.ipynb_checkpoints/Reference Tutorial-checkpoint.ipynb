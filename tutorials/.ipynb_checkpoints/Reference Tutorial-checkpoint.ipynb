{
 "cells": [
  {
   "cell_type": "code",
   "execution_count": 1,
   "metadata": {},
   "outputs": [],
   "source": [
    "import octako as oc\n",
    "from octako import flow\n",
    "from octako import to_neuron as n\n",
    "from octako.ref import my, ref, emission, super_, r"
   ]
  },
  {
   "cell_type": "markdown",
   "metadata": {},
   "source": [
    "There are 4 types of references in Tako: my, super, emission, and val. `My` references refer to an item in the object that owns the reference. `Super` references refer to an item in the super class. `Emission` references refer to the emission of the previous process. Lastly, `Val` is a generic reference that acts on a value that is passed in on construction."
   ]
  },
  {
   "cell_type": "markdown",
   "metadata": {},
   "source": [
    "First, `My` references can be used to refer to members of the Tako that owns the reference."
   ]
  },
  {
   "cell_type": "code",
   "execution_count": 7,
   "metadata": {},
   "outputs": [
    {
     "name": "stdout",
     "output_type": "stream",
     "text": [
      "Setting the owner  <__main__.T object at 0x1107ca7b8>\n",
      "Setting the owner  <__main__.T object at 0x1107ca7b8>\n",
      "Setting the owner  <__main__.T object at 0x1107ca7b8>\n",
      "First:  2\n",
      "Calling neuron ref  1\n",
      "Second:  4\n"
     ]
    }
   ],
   "source": [
    "class T(oc.Tako):\n",
    "    process = oc.in_ >> n(lambda x: x + 1) >> oc.out_\n",
    "    process2 = oc.in_ >> r(my.process) >> n(lambda x: x + 2) >> oc.out_\n",
    "\n",
    "t = T()\n",
    "\n",
    "print('First: ', t.process(1))\n",
    "print('Second: ', t.process2(1))"
   ]
  },
  {
   "cell_type": "code",
   "execution_count": null,
   "metadata": {},
   "outputs": [],
   "source": []
  },
  {
   "cell_type": "code",
   "execution_count": null,
   "metadata": {},
   "outputs": [],
   "source": []
  }
 ],
 "metadata": {
  "kernelspec": {
   "display_name": "Python 3",
   "language": "python",
   "name": "python3"
  },
  "language_info": {
   "codemirror_mode": {
    "name": "ipython",
    "version": 3
   },
   "file_extension": ".py",
   "mimetype": "text/x-python",
   "name": "python",
   "nbconvert_exporter": "python",
   "pygments_lexer": "ipython3",
   "version": "3.7.1"
  }
 },
 "nbformat": 4,
 "nbformat_minor": 2
}
