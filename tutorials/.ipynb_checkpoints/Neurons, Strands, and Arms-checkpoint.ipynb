{
 "cells": [
  {
   "cell_type": "code",
   "execution_count": 1,
   "metadata": {},
   "outputs": [],
   "source": [
    "import octako as oc"
   ]
  },
  {
   "cell_type": "markdown",
   "metadata": {},
   "source": [
    "An arm is a strand that has been turned into a neuron.\n",
    "\n",
    "A neuron should implement the spawn and __call__ methods."
   ]
  },
  {
   "cell_type": "code",
   "execution_count": 4,
   "metadata": {},
   "outputs": [
    {
     "name": "stdout",
     "output_type": "stream",
     "text": [
      "1\n"
     ]
    }
   ],
   "source": [
    "class T(oc.Neuron):\n",
    "    def __init__(self):\n",
    "        super().__init__()\n",
    "    \n",
    "    def __call__(self, x, bot=None):\n",
    "        return x\n",
    "    \n",
    "    def spawn(self):\n",
    "        return T()\n",
    "\n",
    "neuron = T()\n",
    "\n",
    "print(neuron(1))\n"
   ]
  },
  {
   "cell_type": "markdown",
   "metadata": {},
   "source": [
    "Neurons are nodes in a linked list which form a pipeline of processes in an an information network. They can be concatenated together wiith the `>>` operator. "
   ]
  },
  {
   "cell_type": "code",
   "execution_count": 5,
   "metadata": {},
   "outputs": [
    {
     "data": {
      "text/plain": [
       "4"
      ]
     },
     "execution_count": 5,
     "metadata": {},
     "output_type": "execute_result"
    }
   ],
   "source": [
    "class Adder(oc.Neuron):\n",
    "    def __init__(self, add_val=0):\n",
    "        super().__init__()\n",
    "        self._add_val = add_val\n",
    "\n",
    "    def __call__(self, x, bot=None):\n",
    "        return x + self._add_val\n",
    "\n",
    "    def spawn(self):\n",
    "        return T()\n",
    "\n",
    "neuron =  Adder(1) >> Adder(2)\n",
    "neuron(1)"
   ]
  },
  {
   "cell_type": "markdown",
   "metadata": {},
   "source": []
  },
  {
   "cell_type": "code",
   "execution_count": 8,
   "metadata": {},
   "outputs": [
    {
     "name": "stdout",
     "output_type": "stream",
     "text": [
      "4\n",
      "4\n",
      "<class 'octako.core._In'>\n"
     ]
    }
   ],
   "source": [
    "class Adder(oc.Neuron):\n",
    "    def __init__(self, add_val=0):\n",
    "        super().__init__()\n",
    "        self._add_val = add_val\n",
    "\n",
    "    def __call__(self, x, bot=None):\n",
    "        return x + self._add_val\n",
    "\n",
    "    def spawn(self):\n",
    "        return T()\n",
    "\n",
    "strand1 =  oc.in_ >> Adder(1) >> Adder(2) >> oc.out_\n",
    "\n",
    "strand2 = Adder(1) >> Adder(2)\n",
    "strand2.enclose()\n",
    "print(type(strand2[0]))\n",
    "\n",
    "print(strand1(1))\n",
    "print(strand2(1))\n",
    "    "
   ]
  },
  {
   "cell_type": "markdown",
   "metadata": {},
   "source": [
    "`in_` and `out_` are used to 'enclose' a strand. This means that `in_` has no incoming neuron and `out_` has no outgoing neuron so there should be nothing to the  `nil_` can be used in place of `in_` `nil_` to start strands which do not require an input"
   ]
  },
  {
   "cell_type": "code",
   "execution_count": null,
   "metadata": {},
   "outputs": [],
   "source": []
  },
  {
   "cell_type": "code",
   "execution_count": 11,
   "metadata": {},
   "outputs": [
    {
     "name": "stdout",
     "output_type": "stream",
     "text": [
      "An In flow cannot have any incoming neurons\n"
     ]
    }
   ],
   "source": [
    "class Adder(oc.Neuron):\n",
    "    def __init__(self, add_val=0):\n",
    "        super().__init__()\n",
    "        self._add_val = add_val\n",
    "\n",
    "    def __call__(self, x, bot=None):\n",
    "        return x + self._add_val\n",
    "\n",
    "    def spawn(self):\n",
    "        return T()\n",
    "\n",
    "try:\n",
    "    strand =  oc.in_ >> oc.in_ >> Adder(1) >> Adder(2) >> oc.out_\n",
    "except Exception as e:\n",
    "    print(e)"
   ]
  },
  {
   "cell_type": "code",
   "execution_count": 12,
   "metadata": {},
   "outputs": [
    {
     "name": "stdout",
     "output_type": "stream",
     "text": [
      "An In flow cannot have any incoming neurons\n"
     ]
    }
   ],
   "source": [
    "class Adder(oc.Neuron):\n",
    "    def __init__(self, add_val=0):\n",
    "        super().__init__()\n",
    "        self._add_val = add_val\n",
    "\n",
    "    def __call__(self, x, bot=None):\n",
    "        return x + self._add_val\n",
    "\n",
    "    def spawn(self):\n",
    "        return T()\n",
    "\n",
    "try:\n",
    "    strand =  oc.in_ >> Adder(1) >> Adder(2) >> oc.out_ >> oc.out_\n",
    "except Exception as e:\n",
    "    print(e)"
   ]
  },
  {
   "cell_type": "markdown",
   "metadata": {},
   "source": [
    "Here is an example of a strand that begins with `nil_`. The first neuron is an `Emit` neuron which does not take an input (i.e. it merely outputs the value that has been passed into it)."
   ]
  },
  {
   "cell_type": "code",
   "execution_count": 15,
   "metadata": {},
   "outputs": [
    {
     "name": "stdout",
     "output_type": "stream",
     "text": [
      "3\n"
     ]
    }
   ],
   "source": [
    "class Adder(oc.Neuron):\n",
    "    def __init__(self, add_val=0):\n",
    "        super().__init__()\n",
    "        self._add_val = add_val\n",
    "\n",
    "    def __call__(self, x, bot=None):\n",
    "        return x + self._add_val\n",
    "\n",
    "    def spawn(self):\n",
    "        return T()\n",
    "\n",
    "strand =  oc.nil_ >> oc. Emit(1) >> Adder(2) >> oc.out_\n",
    "print(strand())"
   ]
  },
  {
   "cell_type": "code",
   "execution_count": null,
   "metadata": {},
   "outputs": [],
   "source": []
  }
 ],
 "metadata": {
  "kernelspec": {
   "display_name": "Python 3",
   "language": "python",
   "name": "python3"
  },
  "language_info": {
   "codemirror_mode": {
    "name": "ipython",
    "version": 3
   },
   "file_extension": ".py",
   "mimetype": "text/x-python",
   "name": "python",
   "nbconvert_exporter": "python",
   "pygments_lexer": "ipython3",
   "version": "3.7.1"
  }
 },
 "nbformat": 4,
 "nbformat_minor": 2
}
