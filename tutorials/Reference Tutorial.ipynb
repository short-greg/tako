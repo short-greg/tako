{
 "cells": [
  {
   "cell_type": "code",
   "execution_count": 1,
   "metadata": {},
   "outputs": [],
   "source": [
    "import octako as oc\n",
    "from octako import flow\n",
    "from octako import to_neuron as n\n",
    "from octako.ref import my, ref, emission, super_, r"
   ]
  },
  {
   "cell_type": "markdown",
   "metadata": {},
   "source": [
    "There are 4 types of references in Tako: my, super, emission, and val. `My` references refer to an item in the object that owns the reference. `Super` references refer to an item in the super class. `Emission` references refer to the emission of the previous process. Lastly, `Val` is a generic reference that acts on a value that is passed in on construction."
   ]
  },
  {
   "cell_type": "markdown",
   "metadata": {},
   "source": [
    "First, `My` references can be used to refer to members of the Tako that owns the reference."
   ]
  },
  {
   "cell_type": "code",
   "execution_count": 2,
   "metadata": {},
   "outputs": [
    {
     "name": "stdout",
     "output_type": "stream",
     "text": [
      "0\n",
      "First:  3\n",
      "4\n",
      "Second:  7\n"
     ]
    }
   ],
   "source": [
    "class T(oc.Tako):\n",
    "    process = oc.in_ >> my.add_and_print(emission) >> n(lambda x: x + 2) >> oc.out_\n",
    "    \n",
    "    def add_and_print(self, x):\n",
    "        print(x)\n",
    "        return x + 1\n",
    "t = T()\n",
    "print('First: ', t.process(0))\n",
    "print('Second: ', t.process(4))"
   ]
  },
  {
   "cell_type": "code",
   "execution_count": 3,
   "metadata": {},
   "outputs": [
    {
     "name": "stdout",
     "output_type": "stream",
     "text": [
      "First:  2\n",
      "First:  3\n"
     ]
    }
   ],
   "source": [
    "class T(oc.Tako):\n",
    "    process = oc.in_ >> flow.Onto(my.val) >> n(lambda x: x[0] + x[1]) >> oc.out_\n",
    "    val = 2\n",
    "\n",
    "t = T()\n",
    "\n",
    "print('First: ', t.process(0))\n",
    "print('First: ', t.process(1))\n",
    "\n"
   ]
  },
  {
   "cell_type": "markdown",
   "metadata": {},
   "source": [
    "`Super` references allow you to refer to the base class of the class."
   ]
  },
  {
   "cell_type": "code",
   "execution_count": 4,
   "metadata": {},
   "outputs": [
    {
     "name": "stdout",
     "output_type": "stream",
     "text": [
      "<class '__main__.T'>\n",
      "Getting attribute  f <class '__main__.T'>\n",
      "Args:  FullArgSpec(args=['self', 'x'], varargs=None, varkw=None, defaults=None, kwonlyargs=[], kwonlydefaults=None, annotations={}) 7 ['self', 'x']\n",
      "First:  -9\n"
     ]
    }
   ],
   "source": [
    "class T(oc.Tako):\n",
    "    def f(self, x):\n",
    "        return x - 10\n",
    "\n",
    "class TSub(T):\n",
    "    process = oc.in_ >> super_. f(emission) >> oc.out_\n",
    "    \n",
    "    def f(self, x):\n",
    "        return x + 10\n",
    "\n",
    "t = TSub()\n",
    "\n",
    "print(t.process.strand[1]._super_._cls)\n",
    "print('First: ', t.process(1))\n",
    "# print('Second: ', t.process2(1))"
   ]
  },
  {
   "cell_type": "code",
   "execution_count": 5,
   "metadata": {},
   "outputs": [
    {
     "name": "stdout",
     "output_type": "stream",
     "text": [
      "<class '__main__.T'>\n",
      "Getting attribute  f <class '__main__.T'>\n",
      "Args:  FullArgSpec(args=['x'], varargs=None, varkw=None, defaults=None, kwonlyargs=[], kwonlydefaults=None, annotations={}) 7 ['x']\n",
      "First:  -9\n"
     ]
    }
   ],
   "source": [
    "class T(oc.Tako):\n",
    "    @staticmethod\n",
    "    def f(x):\n",
    "        return x - 10\n",
    "\n",
    "class TSub(T):\n",
    "    process = oc.in_ >> super_. f(emission) >> oc.out_\n",
    "    \n",
    "    @staticmethod\n",
    "    def f(x):\n",
    "        return x + 10\n",
    "\n",
    "t = TSub()\n",
    "\n",
    "print(t.process.strand[1]._super_._cls)\n",
    "print('First: ', t.process(1))"
   ]
  },
  {
   "cell_type": "code",
   "execution_count": 6,
   "metadata": {},
   "outputs": [
    {
     "name": "stdout",
     "output_type": "stream",
     "text": [
      "First:  3\n"
     ]
    }
   ],
   "source": [
    "process = oc.in_ >> emission(1) >> oc.out_\n",
    "    \n",
    "\n",
    "print('First: ', process(lambda x: x + 2))"
   ]
  },
  {
   "cell_type": "code",
   "execution_count": 7,
   "metadata": {},
   "outputs": [
    {
     "name": "stdout",
     "output_type": "stream",
     "text": [
      "First:  3\n"
     ]
    }
   ],
   "source": [
    "process = oc.in_ >> emission[0] >> oc.out_\n",
    "\n",
    "\n",
    "print('First: ', process([3, 1, 2]))"
   ]
  },
  {
   "cell_type": "code",
   "execution_count": 8,
   "metadata": {},
   "outputs": [
    {
     "name": "stdout",
     "output_type": "stream",
     "text": [
      "3 2\n",
      "First:  5\n"
     ]
    }
   ],
   "source": [
    "class T(oc.Tako):\n",
    "    def f(self, x1, x2):\n",
    "        print(x1, x2)\n",
    "        return x1 + x2\n",
    "\n",
    "    process = oc.in_ >> my.f(emission, 2) >> oc.out_\n",
    "\n",
    "t = T()\n",
    "    \n",
    "print('First: ', t.process(3))"
   ]
  },
  {
   "cell_type": "code",
   "execution_count": null,
   "metadata": {},
   "outputs": [],
   "source": []
  }
 ],
 "metadata": {
  "kernelspec": {
   "display_name": "Python 3",
   "language": "python",
   "name": "python3"
  },
  "language_info": {
   "codemirror_mode": {
    "name": "ipython",
    "version": 3
   },
   "file_extension": ".py",
   "mimetype": "text/x-python",
   "name": "python",
   "nbconvert_exporter": "python",
   "pygments_lexer": "ipython3",
   "version": "3.7.1"
  }
 },
 "nbformat": 4,
 "nbformat_minor": 2
}
