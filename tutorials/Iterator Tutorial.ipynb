{
 "cells": [
  {
   "cell_type": "markdown",
   "metadata": {},
   "source": [
    "Iteration can be done "
   ]
  },
  {
   "cell_type": "code",
   "execution_count": 1,
   "metadata": {},
   "outputs": [],
   "source": [
    "import octako.iterator as it\n",
    "import octako as oc"
   ]
  },
  {
   "cell_type": "markdown",
   "metadata": {},
   "source": [
    "For creating an iterator, first, it is necessary to create an accessor which accesses the data. Then `MetaAccessors` can be used which perform operations to change the way in which iteration is done.\n",
    " \n",
    " In this example an iterator will be created in which iterates over a small data set randomly."
   ]
  },
  {
   "cell_type": "code",
   "execution_count": 2,
   "metadata": {},
   "outputs": [
    {
     "name": "stdout",
     "output_type": "stream",
     "text": [
      "First:  0\n",
      "Second:  1\n",
      "Third:  2\n",
      "Fourth:  3\n",
      "Fifth:  None\n"
     ]
    }
   ],
   "source": [
    "data = [0, 1, 2, 3]\n",
    "to_iterator = oc.in_ >> it.Accessor(data) >> it.Shuffle() >> it.ToIter()\n",
    "\n",
    "iterator = to_iterator()\n",
    "print('First: ', iterator.get())\n",
    "iterator.adv()\n",
    "print('Second: ', iterator.get())\n",
    "iterator.adv()\n",
    "print('Third: ', iterator.get())\n",
    "iterator.adv()\n",
    "print('Fourth: ', iterator.get())\n",
    "iterator.adv()\n",
    "print('Fifth: ', iterator.get())\n",
    "\n"
   ]
  },
  {
   "cell_type": "markdown",
   "metadata": {},
   "source": [
    "In this example an iterator which extends the previous will be created in which iterates over a small data set randomly in batches."
   ]
  },
  {
   "cell_type": "code",
   "execution_count": 3,
   "metadata": {},
   "outputs": [
    {
     "name": "stdout",
     "output_type": "stream",
     "text": [
      "First:  [3 1]\n",
      "Second:  [2 0]\n",
      "Third:  None\n"
     ]
    }
   ],
   "source": [
    "from octako import to_neuron as n\n",
    "import numpy as np\n",
    "data = np.array([0, 1, 2, 3])\n",
    "\n",
    "# create the base pattern for the iterator\n",
    "BaseToIterator = oc.Stem(oc.nil_ >> it.Accessor(data) >> oc.arg.meta >> it.ToIter())\n",
    "\n",
    "# Create an iterator with  \"MetaAccessors\"\n",
    "# An arm is passed in in order to do the concatenation here\n",
    "to_iterator = BaseToIterator(meta=oc.Arm(n(it.Shuffle()) >> it.Batch(size=2)))\n",
    "\n",
    "iterator = to_iterator()\n",
    "print('First: ', iterator.get())\n",
    "iterator.adv()\n",
    "print('Second: ', iterator.get())\n",
    "iterator.adv()\n",
    "print('Third: ', iterator.get())\n"
   ]
  },
  {
   "cell_type": "markdown",
   "metadata": {},
   "source": [
    "Here is an example with a reversal on the iterator. Since the present Reverse requires an index be passed in and Batch will pass a 'slice', it is necessary to put Reverse after 'Batch'."
   ]
  },
  {
   "cell_type": "code",
   "execution_count": 4,
   "metadata": {},
   "outputs": [
    {
     "name": "stdout",
     "output_type": "stream",
     "text": [
      "First:  [2 3]\n",
      "Second:  [0 1]\n",
      "Third:  None\n"
     ]
    }
   ],
   "source": [
    "from octako import to_neuron as n\n",
    "import numpy as np\n",
    "data = np.array([0, 1, 2, 3])\n",
    "\n",
    "# create the base pattern for the iterator\n",
    "BaseToIterator = oc.Stem(oc.nil_ >> it.Accessor(data) >> oc.arg.meta >> it.ToIter())\n",
    "\n",
    "# Create an iterator with  \"MetaAccessors\"\n",
    "# An arm is passed in in order to do the concatenation here\n",
    "to_iterator = BaseToIterator(meta=oc.Arm(oc.in_>> it.Batch(size=2)  >> it.Reverse()))\n",
    "\n",
    "iterator = to_iterator()\n",
    "print('First: ', iterator.get())\n",
    "iterator.adv()\n",
    "print('Second: ', iterator.get())\n",
    "iterator.adv()\n",
    "print('Third: ', iterator.get())"
   ]
  },
  {
   "cell_type": "markdown",
   "metadata": {},
   "source": [
    "Since iterators go hand in hand with looping, the example below shows a loop (Repeat) used with an iterator. Repeat does not do any extra processing on the output of the iterator in this case."
   ]
  },
  {
   "cell_type": "code",
   "execution_count": 5,
   "metadata": {},
   "outputs": [
    {
     "name": "stdout",
     "output_type": "stream",
     "text": [
      "Output:  [3, 2, 1, 0, None]\n"
     ]
    }
   ],
   "source": [
    "from octako import to_neuron as n\n",
    "from octako import flow\n",
    "import numpy as np\n",
    "data = np.array([0, 1, 2, 3])\n",
    "\n",
    "# create the base pattern for the iterator\n",
    "BaseIterator = oc.Stem(oc.nil_ >> it.Accessor(data) >> oc.arg.meta >> it.ToIter())\n",
    "\n",
    "# Create an iterator with  \"MetaAccessors\"\n",
    "# An arm is passed in in order to do the concatenation here\n",
    "\n",
    "loop = BaseToIterator(meta=oc.Arm(oc.in_>> it.Reverse())) >>flow.Repeat(\n",
    "    it.Iterate(),\n",
    "    output_all=True\n",
    ")\n",
    "\n",
    "print('Output: ', loop())"
   ]
  },
  {
   "cell_type": "markdown",
   "metadata": {},
   "source": [
    "In this case, we will add some processing to the Repeat control structure."
   ]
  },
  {
   "cell_type": "code",
   "execution_count": 6,
   "metadata": {},
   "outputs": [
    {
     "name": "stdout",
     "output_type": "stream",
     "text": [
      "Output:  [5, 4, 3, 2, None]\n"
     ]
    }
   ],
   "source": [
    "from octako import to_neuron as n\n",
    "from octako import flow\n",
    "import numpy as np\n",
    "data = np.array([0, 1, 2, 3])\n",
    "\n",
    "# create the base pattern for the iterator\n",
    "BaseIterator = oc.Stem(oc.nil_ >> it.Accessor(data) >> oc.arg.meta >> it.ToIter())\n",
    "\n",
    "# Create an iterator with  \"MetaAccessors\"\n",
    "# An arm is passed in in order to do the concatenation here\n",
    "\n",
    "loop = BaseToIterator(meta=oc.Arm(oc.in_>> it.Reverse())) >>flow.Repeat(\n",
    "    it.Iterate() >> flow.Gate(neuron=lambda x: x + 2),\n",
    "    output_all=True\n",
    ")\n",
    "\n",
    "print('Output: ', loop())"
   ]
  },
  {
   "cell_type": "markdown",
   "metadata": {},
   "source": [
    "Since the Iterator and Repeat with the iteration gated is a common pattern, this pattern can be combined into one stem for reuse."
   ]
  },
  {
   "cell_type": "code",
   "execution_count": 7,
   "metadata": {},
   "outputs": [
    {
     "name": "stdout",
     "output_type": "stream",
     "text": [
      "[array([2, 3]), array([4, 5]), None]\n"
     ]
    }
   ],
   "source": [
    "from octako import to_neuron as n\n",
    "from octako import flow\n",
    "import numpy as np\n",
    "data = np.array([0, 1, 2, 3])\n",
    "\n",
    "# create the base pattern for the iterator\n",
    "BaseIterator = oc.Stem(oc.in_ >> it.Accessor() >> oc.arg.meta >> it.ToIter())\n",
    "\n",
    "IterateOn = oc.Stem(BaseIterator(meta=n(oc.arg.meta)) >>flow.Repeat(\n",
    "    it.Iterate() >> flow.Gate(neuron=oc.arg.process),\n",
    "    output_all=True\n",
    "))\n",
    "\n",
    "iterate_on = IterateOn(\n",
    "    meta=n(oc.in_ >> it.Batch(size=2)), \n",
    "    process=n(lambda x: x + 2)\n",
    ")\n",
    "\n",
    "print(iterate_on(data))"
   ]
  },
  {
   "cell_type": "code",
   "execution_count": null,
   "metadata": {},
   "outputs": [],
   "source": []
  },
  {
   "cell_type": "code",
   "execution_count": null,
   "metadata": {},
   "outputs": [],
   "source": []
  }
 ],
 "metadata": {
  "kernelspec": {
   "display_name": "Python 3",
   "language": "python",
   "name": "python3"
  },
  "language_info": {
   "codemirror_mode": {
    "name": "ipython",
    "version": 3
   },
   "file_extension": ".py",
   "mimetype": "text/x-python",
   "name": "python",
   "nbconvert_exporter": "python",
   "pygments_lexer": "ipython3",
   "version": "3.7.1"
  }
 },
 "nbformat": 4,
 "nbformat_minor": 2
}
