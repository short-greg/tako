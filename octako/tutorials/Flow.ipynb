{
 "cells": [
  {
   "cell_type": "code",
   "execution_count": 7,
   "metadata": {},
   "outputs": [],
   "source": [
    "from octako import flow\n",
    "import octako as oc\n",
    "from octako import to_neuron as n"
   ]
  },
  {
   "cell_type": "code",
   "execution_count": 2,
   "metadata": {},
   "outputs": [
    {
     "name": "stdout",
     "output_type": "stream",
     "text": [
      "(True, 2)\n",
      "(True, 2)\n",
      "(False, None)\n"
     ]
    }
   ],
   "source": [
    "gate = flow.Gate(\n",
    "    cond=(lambda x: x == 0),\n",
    "    neuron=lambda x: x + 1\n",
    ")\n",
    "\n",
    "print(gate((0, 1)))\n",
    "\n",
    "gate = flow.Gate(\n",
    "    cond=(lambda x: x),\n",
    "    neuron=lambda x: x + 1,\n",
    "    pass_on=0\n",
    ")\n",
    "\n",
    "print(gate((0, 1)))\n",
    "\n",
    "gate = flow.Gate(\n",
    "    cond=(lambda x: x),\n",
    "    neuron=lambda x: x + 1,\n",
    "    pass_on=0\n",
    ")\n",
    "\n",
    "print(gate((1, 0)))\n"
   ]
  },
  {
   "cell_type": "code",
   "execution_count": 3,
   "metadata": {},
   "outputs": [
    {
     "name": "stdout",
     "output_type": "stream",
     "text": [
      "1st:  [2, 3]\n",
      "2nd:  [2, 3, 1]\n",
      "3rd:  [1, 1, 1]\n"
     ]
    }
   ],
   "source": [
    "multi = flow.Multi(\n",
    "    [\n",
    "        lambda x: x + 1,\n",
    "        lambda x: x + 2\n",
    "    ]\n",
    ")\n",
    "\n",
    "print('1st: ', multi(1))\n",
    "\n",
    "multi = flow.Multi(\n",
    "    [\n",
    "        lambda x: x + 1,\n",
    "        lambda x: x + 2\n",
    "    ], n=3\n",
    ")\n",
    "\n",
    "print('2nd: ', multi(1))\n",
    "\n",
    "multi = flow.Multi(\n",
    "    n=3\n",
    ")\n",
    "\n",
    "print('3rd: ', multi(1))"
   ]
  },
  {
   "cell_type": "code",
   "execution_count": 4,
   "metadata": {},
   "outputs": [
    {
     "name": "stdout",
     "output_type": "stream",
     "text": [
      "1st  5\n",
      "2nd  1\n",
      "3rd  [1, 2, 3, 4, 5]\n"
     ]
    }
   ],
   "source": [
    "class Updater(oc.Neuron):\n",
    "    \n",
    "    def __init__(self):\n",
    "        super().__init__()\n",
    "        self.i = 0\n",
    "    \n",
    "    def __call__(self, x, bot=None):\n",
    "        i = self.i\n",
    "        self.i += 1\n",
    "        return i==4, x + i\n",
    "\n",
    "\n",
    "repeat = flow.Repeat(\n",
    "    Updater(), break_on=True, output_all=False\n",
    ")\n",
    "\n",
    "print('1st ', repeat(1))\n",
    "\n",
    "repeat = flow.Repeat(\n",
    "    Updater(), break_on=False, output_all=False\n",
    ")\n",
    "\n",
    "print('2nd ', repeat(1))\n",
    "\n",
    "repeat = flow.Repeat(\n",
    "    Updater(), break_on=True, output_all=True\n",
    ")\n",
    "\n",
    "print('3rd ', repeat(1))\n"
   ]
  },
  {
   "cell_type": "code",
   "execution_count": 5,
   "metadata": {},
   "outputs": [
    {
     "name": "stdout",
     "output_type": "stream",
     "text": [
      "1st:  (0, 1)\n",
      "2nd:  (1, 0)\n",
      "2nd:  (2, 2)\n",
      "2nd:  (4, 2)\n"
     ]
    }
   ],
   "source": [
    "switch = flow.Switch(\n",
    "   lambda x: x,\n",
    "    {\n",
    "        0: lambda x: 1,\n",
    "        1: lambda x: 0    \n",
    "    },\n",
    "    default=lambda x: x + 2\n",
    ")\n",
    "\n",
    "print('1st: ', switch((0, 0)))\n",
    "print('2nd: ', switch((1, 0)))\n",
    "print('2nd: ', switch((2, 0)))\n",
    "print('2nd: ', switch((4, 0)))"
   ]
  },
  {
   "cell_type": "code",
   "execution_count": 13,
   "metadata": {},
   "outputs": [
    {
     "name": "stdout",
     "output_type": "stream",
     "text": [
      "(True, 1)\n",
      "1st:  (0, 1)\n",
      "(False, None)\n",
      "(False, None)\n",
      "2nd:  (-1, 2)\n"
     ]
    }
   ],
   "source": [
    "class Case(oc.Neuron):\n",
    "    def __init__(self, pass_on, output_):\n",
    "        super().__init__()\n",
    "        self._pass_on = pass_on\n",
    "        self._output_ = output_\n",
    "    \n",
    "    def __call__(self, x, wh=None):\n",
    "        if x == self._pass_on:\n",
    "            return True, self._output_\n",
    "        else:\n",
    "            return False, None\n",
    "        \n",
    "    def spawn(self):\n",
    "        return Case(self._pass_on, self._output_)\n",
    "\n",
    "cases = flow.Cases(\n",
    "    [\n",
    "        Case(0, 1),\n",
    "        Case(1, 5),\n",
    "    ],\n",
    "    lambda x: 2\n",
    ")\n",
    "\n",
    "print('1st: ', cases(0))\n",
    "print('2nd: ', cases(2))"
   ]
  },
  {
   "cell_type": "code",
   "execution_count": 14,
   "metadata": {},
   "outputs": [
    {
     "name": "stdout",
     "output_type": "stream",
     "text": [
      "1st:  [1, 4]\n",
      "2nd:  [4, 1]\n"
     ]
    }
   ],
   "source": [
    "onto = flow.Onto(oc.Emit(4))\n",
    "under = flow.Under(oc.Emit(4))\n",
    "print('1st: ', onto(1))\n",
    "print('2nd: ', under(1))\n"
   ]
  },
  {
   "cell_type": "code",
   "execution_count": null,
   "metadata": {},
   "outputs": [],
   "source": [
    "delay = flow.Delay(2, default=1)\n",
    "\n",
    "print('1st: ', delay(0))\n",
    "print('2nd: ', delay(0))\n",
    "print('3 ', delay(0))"
   ]
  }
 ],
 "metadata": {
  "kernelspec": {
   "display_name": "Python 3",
   "language": "python",
   "name": "python3"
  },
  "language_info": {
   "codemirror_mode": {
    "name": "ipython",
    "version": 3
   },
   "file_extension": ".py",
   "mimetype": "text/x-python",
   "name": "python",
   "nbconvert_exporter": "python",
   "pygments_lexer": "ipython3",
   "version": "3.7.1"
  }
 },
 "nbformat": 4,
 "nbformat_minor": 2
}
