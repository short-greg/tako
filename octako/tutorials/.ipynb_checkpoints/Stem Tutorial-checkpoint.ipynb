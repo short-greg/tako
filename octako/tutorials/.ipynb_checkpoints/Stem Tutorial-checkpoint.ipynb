{
 "cells": [
  {
   "cell_type": "markdown",
   "metadata": {},
   "source": [
    "Stems make it possible to create reusable information flow. If you wish to pass in arguments when creating a stem you can use the 'Arg' class to create arguments. Both key-value arguments and index-value arguments can be created. \n",
    "\n",
    "The code `arg[0]` will create an index-value argument\n",
    "The code `arg.v` will create a key-value argument. Note: You must pass in the argument by the associated index or key.\n",
    "\n",
    "When a Stem is instantiated, the spawn method will "
   ]
  },
  {
   "cell_type": "code",
   "execution_count": 1,
   "metadata": {},
   "outputs": [],
   "source": [
    "import octako as oc\n",
    "import octako.flow as flow\n",
    "from octako import to_neuron as n"
   ]
  },
  {
   "cell_type": "code",
   "execution_count": 2,
   "metadata": {},
   "outputs": [],
   "source": [
    "class Updater(oc.Neuron):\n",
    "    def __init__(self, cur=0):\n",
    "        super().__init__()\n",
    "        self.cur = cur\n",
    "    \n",
    "    def __call__(self, x, bot=None):\n",
    "        res = x + self.cur\n",
    "        self.cur = res\n",
    "        return res\n",
    "    \n",
    "    def spawn(self):\n",
    "        return Updater(self.cur)\n",
    "\n",
    "Add = oc.Stem(Updater())\n",
    "\n",
    "adder_1 = Add()\n",
    "adder_2 = Add()\n",
    "\n",
    "print(adder_1(1))\n",
    "print(adder_1(2))\n",
    "\n",
    "print(adder_2(1))\n",
    "print(adder_2(2))\n"
   ]
  },
  {
   "cell_type": "code",
   "execution_count": 3,
   "metadata": {},
   "outputs": [],
   "source": [
    "AddX_v1 = oc.Stem(\n",
    "    flow.Onto(oc.Emit.d(oc.arg[0])) >> (lambda x: x[0] + x[1])\n",
    ")\n",
    "add_one = AddX_v1(1)\n",
    "add_two = AddX_v1(2)\n",
    "\n",
    "x = 1\n",
    "print(add_one(x))\n",
    "print(add_two(x))"
   ]
  },
  {
   "cell_type": "markdown",
   "metadata": {},
   "source": [
    "Since Onto+Emit is a flow pattern that can be commonly used. It may make sense to create an OntoEmit stem and use that stem in your add function."
   ]
  },
  {
   "cell_type": "code",
   "execution_count": 4,
   "metadata": {},
   "outputs": [],
   "source": [
    "OntoEmit = oc.Stem(flow.Onto(oc.Emit.d(oc.arg[0])))\n",
    "AddX_v2 = oc.Stem(\n",
    "    OntoEmit(oc.arg[0]) >> (lambda x: x[0] + x[1])\n",
    ")\n",
    "add_1 = AddX_v2(1)\n",
    "add_2 = AddX_v2(2)\n",
    "\n",
    "x = 1\n",
    "print(add_1(x))\n",
    "print(add_2(x))"
   ]
  },
  {
   "cell_type": "code",
   "execution_count": 9,
   "metadata": {},
   "outputs": [
    {
     "name": "stdout",
     "output_type": "stream",
     "text": [
      "<octako.core.OpNeuron object at 0x1062b0198> <octako.core.OpNeuron object at 0x1062b0208>\n",
      "<octako.core.OpNeuron object at 0x1062b04a8>\n"
     ]
    }
   ],
   "source": [
    "class P(oc.Neuron):\n",
    "    def __init__(self, cur=0):\n",
    "        super().__init__()\n",
    "    \n",
    "    def __call__(self, x, bot=None):\n",
    "        return x + 1\n",
    "    \n",
    "    def spawn(self):\n",
    "        return P()\n",
    "\n",
    "\n",
    "class P2(oc.Neuron):\n",
    "    def __init__(self, cur=0):\n",
    "        super().__init__()\n",
    "    \n",
    "    def __call__(self, x, bot=None):\n",
    "        return x + 2\n",
    "    \n",
    "    def spawn(self):\n",
    "        return P()\n",
    "\n",
    "\n",
    "class P3(oc.Neuron):\n",
    "    def __init__(self, cur=0):\n",
    "        super().__init__()\n",
    "    \n",
    "    def __call__(self, x, bot=None):\n",
    "        return x + 3\n",
    "    \n",
    "    def spawn(self):\n",
    "        return P()\n",
    "\n",
    "\n",
    "PStream = oc.Stem(\n",
    "    P() >> oc.arg[0] >> (lambda x: x - 1)\n",
    ")\n",
    "\n",
    "print(PStream._cls[1], PStream._cls[2])\n",
    "\n",
    "stream = PStream(P2())\n",
    "\n",
    "stream2 = PStream(P3())\n",
    "\n",
    "print(stream2[1])\n",
    "\n",
    "# print(stream(1))\n",
    "# print(stream2(1))\n"
   ]
  },
  {
   "cell_type": "code",
   "execution_count": null,
   "metadata": {},
   "outputs": [],
   "source": []
  }
 ],
 "metadata": {
  "kernelspec": {
   "display_name": "Python 3",
   "language": "python",
   "name": "python3"
  },
  "language_info": {
   "codemirror_mode": {
    "name": "ipython",
    "version": 3
   },
   "file_extension": ".py",
   "mimetype": "text/x-python",
   "name": "python",
   "nbconvert_exporter": "python",
   "pygments_lexer": "ipython3",
   "version": "3.7.1"
  }
 },
 "nbformat": 4,
 "nbformat_minor": 2
}
